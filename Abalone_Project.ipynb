{
 "cells": [
  {
   "cell_type": "code",
   "execution_count": 111,
   "metadata": {},
   "outputs": [],
   "source": [
    "import pandas as pd\n",
    "import numpy as np\n",
    "import seaborn as sns\n",
    "import matplotlib.pyplot as plt\n",
    "from sklearn.preprocessing import LabelEncoder\n",
    "from sklearn.preprocessing import OneHotEncoder\n",
    "from scipy.stats import skew, kurtosis\n",
    "from sklearn.model_selection import train_test_split\n",
    "from sklearn.linear_model import LinearRegression\n",
    "from sklearn.metrics import r2_score\n",
    "from sklearn.metrics import mean_squared_error #MSE\n",
    "from sklearn.metrics import mean_absolute_error #MAE"
   ]
  },
  {
   "cell_type": "code",
   "execution_count": 48,
   "metadata": {},
   "outputs": [
    {
     "data": {
      "text/html": [
       "<div>\n",
       "<style scoped>\n",
       "    .dataframe tbody tr th:only-of-type {\n",
       "        vertical-align: middle;\n",
       "    }\n",
       "\n",
       "    .dataframe tbody tr th {\n",
       "        vertical-align: top;\n",
       "    }\n",
       "\n",
       "    .dataframe thead th {\n",
       "        text-align: right;\n",
       "    }\n",
       "</style>\n",
       "<table border=\"1\" class=\"dataframe\">\n",
       "  <thead>\n",
       "    <tr style=\"text-align: right;\">\n",
       "      <th></th>\n",
       "      <th>Sex</th>\n",
       "      <th>Length</th>\n",
       "      <th>Diameter</th>\n",
       "      <th>Height</th>\n",
       "      <th>Whole weight</th>\n",
       "      <th>Shucked weight</th>\n",
       "      <th>Viscera weight</th>\n",
       "      <th>Shell weight</th>\n",
       "      <th>Rings</th>\n",
       "    </tr>\n",
       "  </thead>\n",
       "  <tbody>\n",
       "    <tr>\n",
       "      <th>0</th>\n",
       "      <td>M</td>\n",
       "      <td>0.455</td>\n",
       "      <td>0.365</td>\n",
       "      <td>0.095</td>\n",
       "      <td>0.5140</td>\n",
       "      <td>0.2245</td>\n",
       "      <td>0.1010</td>\n",
       "      <td>0.150</td>\n",
       "      <td>15</td>\n",
       "    </tr>\n",
       "    <tr>\n",
       "      <th>1</th>\n",
       "      <td>M</td>\n",
       "      <td>0.350</td>\n",
       "      <td>0.265</td>\n",
       "      <td>0.090</td>\n",
       "      <td>0.2255</td>\n",
       "      <td>0.0995</td>\n",
       "      <td>0.0485</td>\n",
       "      <td>0.070</td>\n",
       "      <td>7</td>\n",
       "    </tr>\n",
       "    <tr>\n",
       "      <th>2</th>\n",
       "      <td>F</td>\n",
       "      <td>0.530</td>\n",
       "      <td>0.420</td>\n",
       "      <td>0.135</td>\n",
       "      <td>0.6770</td>\n",
       "      <td>0.2565</td>\n",
       "      <td>0.1415</td>\n",
       "      <td>0.210</td>\n",
       "      <td>9</td>\n",
       "    </tr>\n",
       "    <tr>\n",
       "      <th>3</th>\n",
       "      <td>M</td>\n",
       "      <td>0.440</td>\n",
       "      <td>0.365</td>\n",
       "      <td>0.125</td>\n",
       "      <td>0.5160</td>\n",
       "      <td>0.2155</td>\n",
       "      <td>0.1140</td>\n",
       "      <td>0.155</td>\n",
       "      <td>10</td>\n",
       "    </tr>\n",
       "    <tr>\n",
       "      <th>4</th>\n",
       "      <td>I</td>\n",
       "      <td>0.330</td>\n",
       "      <td>0.255</td>\n",
       "      <td>0.080</td>\n",
       "      <td>0.2050</td>\n",
       "      <td>0.0895</td>\n",
       "      <td>0.0395</td>\n",
       "      <td>0.055</td>\n",
       "      <td>7</td>\n",
       "    </tr>\n",
       "  </tbody>\n",
       "</table>\n",
       "</div>"
      ],
      "text/plain": [
       "  Sex  Length  Diameter  Height  Whole weight  Shucked weight  Viscera weight  \\\n",
       "0   M   0.455     0.365   0.095        0.5140          0.2245          0.1010   \n",
       "1   M   0.350     0.265   0.090        0.2255          0.0995          0.0485   \n",
       "2   F   0.530     0.420   0.135        0.6770          0.2565          0.1415   \n",
       "3   M   0.440     0.365   0.125        0.5160          0.2155          0.1140   \n",
       "4   I   0.330     0.255   0.080        0.2050          0.0895          0.0395   \n",
       "\n",
       "   Shell weight  Rings  \n",
       "0         0.150     15  \n",
       "1         0.070      7  \n",
       "2         0.210      9  \n",
       "3         0.155     10  \n",
       "4         0.055      7  "
      ]
     },
     "execution_count": 48,
     "metadata": {},
     "output_type": "execute_result"
    }
   ],
   "source": [
    "df = pd.read_csv('abalone.csv')\n",
    "df.head()"
   ]
  },
  {
   "cell_type": "code",
   "execution_count": 49,
   "metadata": {},
   "outputs": [
    {
     "data": {
      "text/plain": [
       "Sex                object\n",
       "Length            float64\n",
       "Diameter          float64\n",
       "Height            float64\n",
       "Whole weight      float64\n",
       "Shucked weight    float64\n",
       "Viscera weight    float64\n",
       "Shell weight      float64\n",
       "Rings               int64\n",
       "dtype: object"
      ]
     },
     "execution_count": 49,
     "metadata": {},
     "output_type": "execute_result"
    }
   ],
   "source": [
    "df.dtypes"
   ]
  },
  {
   "cell_type": "code",
   "execution_count": 50,
   "metadata": {},
   "outputs": [
    {
     "name": "stdout",
     "output_type": "stream",
     "text": [
      "<class 'pandas.core.frame.DataFrame'>\n",
      "RangeIndex: 4177 entries, 0 to 4176\n",
      "Data columns (total 9 columns):\n",
      "Sex               4177 non-null object\n",
      "Length            4177 non-null float64\n",
      "Diameter          4177 non-null float64\n",
      "Height            4177 non-null float64\n",
      "Whole weight      4177 non-null float64\n",
      "Shucked weight    4177 non-null float64\n",
      "Viscera weight    4177 non-null float64\n",
      "Shell weight      4177 non-null float64\n",
      "Rings             4177 non-null int64\n",
      "dtypes: float64(7), int64(1), object(1)\n",
      "memory usage: 293.8+ KB\n"
     ]
    }
   ],
   "source": [
    "df.info()"
   ]
  },
  {
   "cell_type": "code",
   "execution_count": 51,
   "metadata": {},
   "outputs": [
    {
     "data": {
      "text/plain": [
       "Index(['Sex', 'Length', 'Diameter', 'Height', 'Whole weight', 'Shucked weight',\n",
       "       'Viscera weight', 'Shell weight', 'Rings'],\n",
       "      dtype='object')"
      ]
     },
     "execution_count": 51,
     "metadata": {},
     "output_type": "execute_result"
    }
   ],
   "source": [
    "df.columns"
   ]
  },
  {
   "cell_type": "code",
   "execution_count": 52,
   "metadata": {},
   "outputs": [
    {
     "data": {
      "text/plain": [
       "RangeIndex(start=0, stop=4177, step=1)"
      ]
     },
     "execution_count": 52,
     "metadata": {},
     "output_type": "execute_result"
    }
   ],
   "source": [
    "df.index"
   ]
  },
  {
   "cell_type": "code",
   "execution_count": 53,
   "metadata": {},
   "outputs": [
    {
     "data": {
      "text/plain": [
       "(4177, 9)"
      ]
     },
     "execution_count": 53,
     "metadata": {},
     "output_type": "execute_result"
    }
   ],
   "source": [
    "df.shape"
   ]
  },
  {
   "cell_type": "code",
   "execution_count": 54,
   "metadata": {},
   "outputs": [
    {
     "data": {
      "text/plain": [
       "array(['M', 'F', 'I'], dtype=object)"
      ]
     },
     "execution_count": 54,
     "metadata": {},
     "output_type": "execute_result"
    }
   ],
   "source": [
    "df['Sex'].unique()"
   ]
  },
  {
   "cell_type": "code",
   "execution_count": 55,
   "metadata": {},
   "outputs": [
    {
     "data": {
      "text/plain": [
       "M    1528\n",
       "I    1342\n",
       "F    1307\n",
       "Name: Sex, dtype: int64"
      ]
     },
     "execution_count": 55,
     "metadata": {},
     "output_type": "execute_result"
    }
   ],
   "source": [
    "df['Sex'].value_counts()"
   ]
  },
  {
   "cell_type": "code",
   "execution_count": 79,
   "metadata": {},
   "outputs": [
    {
     "data": {
      "text/plain": [
       "9     689\n",
       "10    634\n",
       "8     568\n",
       "11    487\n",
       "7     391\n",
       "12    267\n",
       "6     259\n",
       "13    203\n",
       "14    126\n",
       "5     115\n",
       "15    103\n",
       "16     67\n",
       "17     58\n",
       "4      57\n",
       "18     42\n",
       "19     32\n",
       "20     26\n",
       "3      15\n",
       "21     14\n",
       "23      9\n",
       "22      6\n",
       "24      2\n",
       "27      2\n",
       "1       1\n",
       "25      1\n",
       "2       1\n",
       "26      1\n",
       "29      1\n",
       "Name: Rings, dtype: int64"
      ]
     },
     "execution_count": 79,
     "metadata": {},
     "output_type": "execute_result"
    }
   ],
   "source": [
    "df['Rings'].value_counts()"
   ]
  },
  {
   "cell_type": "code",
   "execution_count": 56,
   "metadata": {},
   "outputs": [
    {
     "name": "stderr",
     "output_type": "stream",
     "text": [
      "C:\\Users\\VARMA\\Anaconda3\\lib\\site-packages\\seaborn\\_decorators.py:43: FutureWarning: Pass the following variable as a keyword arg: x. From version 0.12, the only valid positional argument will be `data`, and passing other arguments without an explicit keyword will result in an error or misinterpretation.\n",
      "  FutureWarning\n"
     ]
    },
    {
     "data": {
      "text/plain": [
       "<AxesSubplot:xlabel='Sex', ylabel='count'>"
      ]
     },
     "execution_count": 56,
     "metadata": {},
     "output_type": "execute_result"
    },
    {
     "data": {
      "image/png": "[encoded data removed]",
      "text/plain": [
       "<Figure size 432x360 with 1 Axes>"
      ]
     },
     "metadata": {},
     "output_type": "display_data"
    }
   ],
   "source": [
    "plt.figure(figsize=(6,5))\n",
    "sns.countplot(df['Sex'])"
   ]
  },
  {
   "cell_type": "code",
   "execution_count": 57,
   "metadata": {},
   "outputs": [
    {
     "data": {
      "image/png": "[encoded data removed]",
      "text/plain": [
       "<Figure size 432x288 with 1 Axes>"
      ]
     },
     "metadata": {},
     "output_type": "display_data"
    }
   ],
   "source": [
    "numbers= [df['Sex'].value_counts()[0], df['Sex'].value_counts()[1], df['Sex'].value_counts()[2]]\n",
    "labels = ['Male', 'I', 'Female']\n",
    "colors = ['r', 'g', 'pink']\n",
    "plt.pie(numbers, labels=labels, colors=colors, explode=[0, 0.5,0], autopct = '%1.1f%%' )\n",
    "plt.axis('equal')\n",
    "plt.show()"
   ]
  },
  {
   "cell_type": "markdown",
   "metadata": {},
   "source": [
    "# Missing values:"
   ]
  },
  {
   "cell_type": "code",
   "execution_count": 58,
   "metadata": {},
   "outputs": [
    {
     "data": {
      "text/plain": [
       "Sex               0\n",
       "Length            0\n",
       "Diameter          0\n",
       "Height            0\n",
       "Whole weight      0\n",
       "Shucked weight    0\n",
       "Viscera weight    0\n",
       "Shell weight      0\n",
       "Rings             0\n",
       "dtype: int64"
      ]
     },
     "execution_count": 58,
     "metadata": {},
     "output_type": "execute_result"
    }
   ],
   "source": [
    "df.isnull().sum() #There are no missing  values in the data"
   ]
  },
  {
   "cell_type": "code",
   "execution_count": 59,
   "metadata": {},
   "outputs": [
    {
     "data": {
      "text/html": [
       "<div>\n",
       "<style scoped>\n",
       "    .dataframe tbody tr th:only-of-type {\n",
       "        vertical-align: middle;\n",
       "    }\n",
       "\n",
       "    .dataframe tbody tr th {\n",
       "        vertical-align: top;\n",
       "    }\n",
       "\n",
       "    .dataframe thead th {\n",
       "        text-align: right;\n",
       "    }\n",
       "</style>\n",
       "<table border=\"1\" class=\"dataframe\">\n",
       "  <thead>\n",
       "    <tr style=\"text-align: right;\">\n",
       "      <th></th>\n",
       "      <th>Length</th>\n",
       "      <th>Diameter</th>\n",
       "      <th>Height</th>\n",
       "      <th>Whole weight</th>\n",
       "      <th>Shucked weight</th>\n",
       "      <th>Viscera weight</th>\n",
       "      <th>Shell weight</th>\n",
       "      <th>Rings</th>\n",
       "    </tr>\n",
       "  </thead>\n",
       "  <tbody>\n",
       "    <tr>\n",
       "      <th>count</th>\n",
       "      <td>4177.000000</td>\n",
       "      <td>4177.000000</td>\n",
       "      <td>4177.000000</td>\n",
       "      <td>4177.000000</td>\n",
       "      <td>4177.000000</td>\n",
       "      <td>4177.000000</td>\n",
       "      <td>4177.000000</td>\n",
       "      <td>4177.000000</td>\n",
       "    </tr>\n",
       "    <tr>\n",
       "      <th>mean</th>\n",
       "      <td>0.523992</td>\n",
       "      <td>0.407881</td>\n",
       "      <td>0.139516</td>\n",
       "      <td>0.828742</td>\n",
       "      <td>0.359367</td>\n",
       "      <td>0.180594</td>\n",
       "      <td>0.238831</td>\n",
       "      <td>9.933684</td>\n",
       "    </tr>\n",
       "    <tr>\n",
       "      <th>std</th>\n",
       "      <td>0.120093</td>\n",
       "      <td>0.099240</td>\n",
       "      <td>0.041827</td>\n",
       "      <td>0.490389</td>\n",
       "      <td>0.221963</td>\n",
       "      <td>0.109614</td>\n",
       "      <td>0.139203</td>\n",
       "      <td>3.224169</td>\n",
       "    </tr>\n",
       "    <tr>\n",
       "      <th>min</th>\n",
       "      <td>0.075000</td>\n",
       "      <td>0.055000</td>\n",
       "      <td>0.000000</td>\n",
       "      <td>0.002000</td>\n",
       "      <td>0.001000</td>\n",
       "      <td>0.000500</td>\n",
       "      <td>0.001500</td>\n",
       "      <td>1.000000</td>\n",
       "    </tr>\n",
       "    <tr>\n",
       "      <th>25%</th>\n",
       "      <td>0.450000</td>\n",
       "      <td>0.350000</td>\n",
       "      <td>0.115000</td>\n",
       "      <td>0.441500</td>\n",
       "      <td>0.186000</td>\n",
       "      <td>0.093500</td>\n",
       "      <td>0.130000</td>\n",
       "      <td>8.000000</td>\n",
       "    </tr>\n",
       "    <tr>\n",
       "      <th>50%</th>\n",
       "      <td>0.545000</td>\n",
       "      <td>0.425000</td>\n",
       "      <td>0.140000</td>\n",
       "      <td>0.799500</td>\n",
       "      <td>0.336000</td>\n",
       "      <td>0.171000</td>\n",
       "      <td>0.234000</td>\n",
       "      <td>9.000000</td>\n",
       "    </tr>\n",
       "    <tr>\n",
       "      <th>75%</th>\n",
       "      <td>0.615000</td>\n",
       "      <td>0.480000</td>\n",
       "      <td>0.165000</td>\n",
       "      <td>1.153000</td>\n",
       "      <td>0.502000</td>\n",
       "      <td>0.253000</td>\n",
       "      <td>0.329000</td>\n",
       "      <td>11.000000</td>\n",
       "    </tr>\n",
       "    <tr>\n",
       "      <th>max</th>\n",
       "      <td>0.815000</td>\n",
       "      <td>0.650000</td>\n",
       "      <td>1.130000</td>\n",
       "      <td>2.825500</td>\n",
       "      <td>1.488000</td>\n",
       "      <td>0.760000</td>\n",
       "      <td>1.005000</td>\n",
       "      <td>29.000000</td>\n",
       "    </tr>\n",
       "  </tbody>\n",
       "</table>\n",
       "</div>"
      ],
      "text/plain": [
       "            Length     Diameter       Height  Whole weight  Shucked weight  \\\n",
       "count  4177.000000  4177.000000  4177.000000   4177.000000     4177.000000   \n",
       "mean      0.523992     0.407881     0.139516      0.828742        0.359367   \n",
       "std       0.120093     0.099240     0.041827      0.490389        0.221963   \n",
       "min       0.075000     0.055000     0.000000      0.002000        0.001000   \n",
       "25%       0.450000     0.350000     0.115000      0.441500        0.186000   \n",
       "50%       0.545000     0.425000     0.140000      0.799500        0.336000   \n",
       "75%       0.615000     0.480000     0.165000      1.153000        0.502000   \n",
       "max       0.815000     0.650000     1.130000      2.825500        1.488000   \n",
       "\n",
       "       Viscera weight  Shell weight        Rings  \n",
       "count     4177.000000   4177.000000  4177.000000  \n",
       "mean         0.180594      0.238831     9.933684  \n",
       "std          0.109614      0.139203     3.224169  \n",
       "min          0.000500      0.001500     1.000000  \n",
       "25%          0.093500      0.130000     8.000000  \n",
       "50%          0.171000      0.234000     9.000000  \n",
       "75%          0.253000      0.329000    11.000000  \n",
       "max          0.760000      1.005000    29.000000  "
      ]
     },
     "execution_count": 59,
     "metadata": {},
     "output_type": "execute_result"
    }
   ],
   "source": [
    "df.describe()"
   ]
  },
  {
   "cell_type": "markdown",
   "metadata": {},
   "source": [
    "# Encoding the data labels "
   ]
  },
  {
   "cell_type": "code",
   "execution_count": 60,
   "metadata": {},
   "outputs": [
    {
     "name": "stdout",
     "output_type": "stream",
     "text": [
      "After encoded the number of columns are: 11\n"
     ]
    }
   ],
   "source": [
    "#Encoding the labels in Sex column through One hot encoding or creating dummies \n",
    "# The target column is Rings, so converting sex column in to get_dummies \n",
    "df = pd.get_dummies(df)\n",
    "df.head()\n",
    "#The two columns has been increased from the orginal columns \n",
    "print ('After encoded the number of columns are:', len(df.columns))"
   ]
  },
  {
   "cell_type": "markdown",
   "metadata": {},
   "source": [
    "# Univariate analysis : "
   ]
  },
  {
   "cell_type": "code",
   "execution_count": 61,
   "metadata": {},
   "outputs": [
    {
     "name": "stdout",
     "output_type": "stream",
     "text": [
      "***** Length\n"
     ]
    },
    {
     "name": "stderr",
     "output_type": "stream",
     "text": [
      "C:\\Users\\VARMA\\Anaconda3\\lib\\site-packages\\seaborn\\distributions.py:2557: FutureWarning: `distplot` is a deprecated function and will be removed in a future version. Please adapt your code to use either `displot` (a figure-level function with similar flexibility) or `histplot` (an axes-level function for histograms).\n",
      "  warnings.warn(msg, FutureWarning)\n"
     ]
    },
    {
     "data": {
      "image/png": "[encoded data removed]",
      "text/plain": [
       "<Figure size 360x360 with 1 Axes>"
      ]
     },
     "metadata": {},
     "output_type": "display_data"
    },
    {
     "name": "stdout",
     "output_type": "stream",
     "text": [
      "***** Diameter\n"
     ]
    },
    {
     "name": "stderr",
     "output_type": "stream",
     "text": [
      "C:\\Users\\VARMA\\Anaconda3\\lib\\site-packages\\seaborn\\distributions.py:2557: FutureWarning: `distplot` is a deprecated function and will be removed in a future version. Please adapt your code to use either `displot` (a figure-level function with similar flexibility) or `histplot` (an axes-level function for histograms).\n",
      "  warnings.warn(msg, FutureWarning)\n"
     ]
    },
    {
     "data": {
      "image/png": "[encoded data removed]",
      "text/plain": [
       "<Figure size 360x360 with 1 Axes>"
      ]
     },
     "metadata": {},
     "output_type": "display_data"
    },
    {
     "name": "stdout",
     "output_type": "stream",
     "text": [
      "***** Height\n"
     ]
    },
    {
     "name": "stderr",
     "output_type": "stream",
     "text": [
      "C:\\Users\\VARMA\\Anaconda3\\lib\\site-packages\\seaborn\\distributions.py:2557: FutureWarning: `distplot` is a deprecated function and will be removed in a future version. Please adapt your code to use either `displot` (a figure-level function with similar flexibility) or `histplot` (an axes-level function for histograms).\n",
      "  warnings.warn(msg, FutureWarning)\n"
     ]
    },
    {
     "data": {
      "image/png": "[encoded data removed]",
      "text/plain": [
       "<Figure size 360x360 with 1 Axes>"
      ]
     },
     "metadata": {},
     "output_type": "display_data"
    },
    {
     "name": "stdout",
     "output_type": "stream",
     "text": [
      "***** Whole weight\n"
     ]
    },
    {
     "name": "stderr",
     "output_type": "stream",
     "text": [
      "C:\\Users\\VARMA\\Anaconda3\\lib\\site-packages\\seaborn\\distributions.py:2557: FutureWarning: `distplot` is a deprecated function and will be removed in a future version. Please adapt your code to use either `displot` (a figure-level function with similar flexibility) or `histplot` (an axes-level function for histograms).\n",
      "  warnings.warn(msg, FutureWarning)\n"
     ]
    },
    {
     "data": {
      "image/png": "[encoded data removed]",
      "text/plain": [
       "<Figure size 360x360 with 1 Axes>"
      ]
     },
     "metadata": {},
     "output_type": "display_data"
    },
    {
     "name": "stdout",
     "output_type": "stream",
     "text": [
      "***** Shucked weight\n"
     ]
    },
    {
     "name": "stderr",
     "output_type": "stream",
     "text": [
      "C:\\Users\\VARMA\\Anaconda3\\lib\\site-packages\\seaborn\\distributions.py:2557: FutureWarning: `distplot` is a deprecated function and will be removed in a future version. Please adapt your code to use either `displot` (a figure-level function with similar flexibility) or `histplot` (an axes-level function for histograms).\n",
      "  warnings.warn(msg, FutureWarning)\n"
     ]
    },
    {
     "data": {
      "image/png": "[encoded data removed]",
      "text/plain": [
       "<Figure size 360x360 with 1 Axes>"
      ]
     },
     "metadata": {},
     "output_type": "display_data"
    },
    {
     "name": "stderr",
     "output_type": "stream",
     "text": [
      "C:\\Users\\VARMA\\Anaconda3\\lib\\site-packages\\seaborn\\distributions.py:2557: FutureWarning: `distplot` is a deprecated function and will be removed in a future version. Please adapt your code to use either `displot` (a figure-level function with similar flexibility) or `histplot` (an axes-level function for histograms).\n",
      "  warnings.warn(msg, FutureWarning)\n"
     ]
    },
    {
     "name": "stdout",
     "output_type": "stream",
     "text": [
      "***** Viscera weight\n"
     ]
    },
    {
     "data": {
      "image/png": "[encoded data removed]",
      "text/plain": [
       "<Figure size 360x360 with 1 Axes>"
      ]
     },
     "metadata": {},
     "output_type": "display_data"
    },
    {
     "name": "stdout",
     "output_type": "stream",
     "text": [
      "***** Shell weight\n"
     ]
    },
    {
     "name": "stderr",
     "output_type": "stream",
     "text": [
      "C:\\Users\\VARMA\\Anaconda3\\lib\\site-packages\\seaborn\\distributions.py:2557: FutureWarning: `distplot` is a deprecated function and will be removed in a future version. Please adapt your code to use either `displot` (a figure-level function with similar flexibility) or `histplot` (an axes-level function for histograms).\n",
      "  warnings.warn(msg, FutureWarning)\n"
     ]
    },
    {
     "data": {
      "image/png": "[encoded data removed]",
      "text/plain": [
       "<Figure size 360x360 with 1 Axes>"
      ]
     },
     "metadata": {},
     "output_type": "display_data"
    },
    {
     "name": "stderr",
     "output_type": "stream",
     "text": [
      "C:\\Users\\VARMA\\Anaconda3\\lib\\site-packages\\seaborn\\distributions.py:2557: FutureWarning: `distplot` is a deprecated function and will be removed in a future version. Please adapt your code to use either `displot` (a figure-level function with similar flexibility) or `histplot` (an axes-level function for histograms).\n",
      "  warnings.warn(msg, FutureWarning)\n"
     ]
    },
    {
     "name": "stdout",
     "output_type": "stream",
     "text": [
      "***** Rings\n"
     ]
    },
    {
     "data": {
      "image/png": "[encoded data removed]",
      "text/plain": [
       "<Figure size 360x360 with 1 Axes>"
      ]
     },
     "metadata": {},
     "output_type": "display_data"
    }
   ],
   "source": [
    "cols = ['Length', 'Diameter', 'Height', 'Whole weight', 'Shucked weight',\n",
    "       'Viscera weight', 'Shell weight', 'Rings']\n",
    "for i in cols:\n",
    "    print('*****',i)\n",
    "    plt.figure(figsize=(5,5))\n",
    "    sns.distplot(df[i])\n",
    "    plt.show()"
   ]
  },
  {
   "cell_type": "markdown",
   "metadata": {},
   "source": [
    "# Outliers: "
   ]
  },
  {
   "cell_type": "code",
   "execution_count": 62,
   "metadata": {},
   "outputs": [
    {
     "name": "stdout",
     "output_type": "stream",
     "text": [
      "***** Length\n"
     ]
    },
    {
     "data": {
      "image/png": "[encoded data removed]",
      "text/plain": [
       "<Figure size 360x360 with 1 Axes>"
      ]
     },
     "metadata": {},
     "output_type": "display_data"
    },
    {
     "name": "stdout",
     "output_type": "stream",
     "text": [
      "***** Diameter\n"
     ]
    },
    {
     "data": {
      "image/png": "[encoded data removed]",
      "text/plain": [
       "<Figure size 360x360 with 1 Axes>"
      ]
     },
     "metadata": {},
     "output_type": "display_data"
    },
    {
     "name": "stdout",
     "output_type": "stream",
     "text": [
      "***** Height\n"
     ]
    },
    {
     "data": {
      "image/png": "[encoded data removed]",
      "text/plain": [
       "<Figure size 360x360 with 1 Axes>"
      ]
     },
     "metadata": {},
     "output_type": "display_data"
    },
    {
     "name": "stdout",
     "output_type": "stream",
     "text": [
      "***** Whole weight\n"
     ]
    },
    {
     "data": {
      "image/png": "[encoded data removed]",
      "text/plain": [
       "<Figure size 360x360 with 1 Axes>"
      ]
     },
     "metadata": {},
     "output_type": "display_data"
    },
    {
     "name": "stdout",
     "output_type": "stream",
     "text": [
      "***** Shucked weight\n"
     ]
    },
    {
     "data": {
      "image/png": "[encoded data removed]",
      "text/plain": [
       "<Figure size 360x360 with 1 Axes>"
      ]
     },
     "metadata": {},
     "output_type": "display_data"
    },
    {
     "name": "stdout",
     "output_type": "stream",
     "text": [
      "***** Viscera weight\n"
     ]
    },
    {
     "data": {
      "image/png": "[encoded data removed]",
      "text/plain": [
       "<Figure size 360x360 with 1 Axes>"
      ]
     },
     "metadata": {},
     "output_type": "display_data"
    },
    {
     "name": "stdout",
     "output_type": "stream",
     "text": [
      "***** Shell weight\n"
     ]
    },
    {
     "data": {
      "image/png": "[encoded data removed]",
      "text/plain": [
       "<Figure size 360x360 with 1 Axes>"
      ]
     },
     "metadata": {},
     "output_type": "display_data"
    },
    {
     "name": "stdout",
     "output_type": "stream",
     "text": [
      "***** Rings\n"
     ]
    },
    {
     "data": {
      "image/png": "[encoded data removed]",
      "text/plain": [
       "<Figure size 360x360 with 1 Axes>"
      ]
     },
     "metadata": {},
     "output_type": "display_data"
    }
   ],
   "source": [
    "cols = ['Length', 'Diameter', 'Height', 'Whole weight', 'Shucked weight',\n",
    "       'Viscera weight', 'Shell weight', 'Rings']\n",
    "for i in cols:\n",
    "    print('*****',i)\n",
    "    plt.figure(figsize=(5,5))\n",
    "    plt.boxplot(df[i])\n",
    "    plt.show()"
   ]
  },
  {
   "cell_type": "code",
   "execution_count": 64,
   "metadata": {},
   "outputs": [
    {
     "name": "stdout",
     "output_type": "stream",
     "text": [
      "***** Length\n",
      "skew value of Length  = -0.6396434615451078\n",
      "kurtosis value of Length  = 0.06310755265972467\n",
      "*****\n",
      "***** Diameter\n",
      "skew value of Diameter  = -0.6089793517180232\n",
      "kurtosis value of Diameter  = -0.04685725781261718\n",
      "*****\n",
      "***** Height\n",
      "skew value of Height  = 3.127693679207538\n",
      "kurtosis value of Height  = 75.93309871329375\n",
      "*****\n",
      "***** Whole weight\n",
      "skew value of Whole weight  = 0.5307678720133928\n",
      "kurtosis value of Whole weight  = -0.025051305562984627\n",
      "*****\n",
      "***** Shucked weight\n",
      "skew value of Shucked weight  = 0.7188396611678955\n",
      "kurtosis value of Shucked weight  = 0.592975441564509\n",
      "*****\n",
      "***** Viscera weight\n",
      "skew value of Viscera weight  = 0.5916395905344529\n",
      "kurtosis value of Viscera weight  = 0.08247512417944991\n",
      "*****\n",
      "***** Shell weight\n",
      "skew value of Shell weight  = 0.6207038222275745\n",
      "kurtosis value of Shell weight  = 0.5298535134982196\n",
      "*****\n",
      "***** Rings\n",
      "skew value of Rings  = 1.1137017739656028\n",
      "kurtosis value of Rings  = 2.3264623620128333\n",
      "*****\n"
     ]
    }
   ],
   "source": [
    "from scipy.stats import skew, kurtosis\n",
    "for i in cols:\n",
    "    print('*****',i)\n",
    "    sk=skew(df[i])\n",
    "    kurt=kurtosis(df[i])\n",
    "    print('skew value of', i,' =', sk)\n",
    "    print('kurtosis value of', i,' =', kurt)\n",
    "    print('*****')\n"
   ]
  },
  {
   "cell_type": "code",
   "execution_count": 65,
   "metadata": {},
   "outputs": [],
   "source": [
    "#All the columns doesn't have much outliers , however hight column kurtosis value is large , indicating the very big amount outlier is there. "
   ]
  },
  {
   "cell_type": "code",
   "execution_count": 66,
   "metadata": {},
   "outputs": [],
   "source": [
    "def outlier_iqr(input_data):\n",
    "    q1=input_data.quantile(0.25)\n",
    "    q3=input_data.quantile(0.75)\n",
    "    iqr = q3-q1\n",
    "    lower_whisker = q1-(1.5*iqr)\n",
    "    upper_whisker = q3+(1.5*iqr)\n",
    "    outlier_list = []\n",
    "    for i in input_data:\n",
    "        if i>upper_whisker or i<lower_whisker:\n",
    "            outlier_list.append(i)\n",
    "    print ('outliers are', outlier_list)\n",
    "    print ('lower_whisker value :', lower_whisker, 'upper_whisker value', upper_whisker)\n",
    "    return ('lower_whisker value :', lower_whisker, 'upper_whisker value', upper_whisker)"
   ]
  },
  {
   "cell_type": "code",
   "execution_count": 67,
   "metadata": {},
   "outputs": [
    {
     "name": "stdout",
     "output_type": "stream",
     "text": [
      "***** Length\n",
      "outliers are [0.175, 0.17, 0.075, 0.13, 0.11, 0.16, 0.2, 0.165, 0.19, 0.175, 0.2, 0.175, 0.155, 0.195, 0.165, 0.155, 0.18, 0.15, 0.16, 0.185, 0.195, 0.195, 0.2, 0.185, 0.14, 0.185, 0.135, 0.16, 0.13, 0.18, 0.165, 0.19, 0.17, 0.18, 0.175, 0.155, 0.2, 0.19, 0.18, 0.2, 0.2, 0.165, 0.19, 0.165, 0.175, 0.17, 0.14, 0.16, 0.185]\n",
      "lower_whisker value : 0.20250000000000004 upper_whisker value 0.8624999999999999\n",
      "*****\n",
      "***** Diameter\n",
      "outliers are [0.15, 0.15, 0.13, 0.13, 0.055, 0.1, 0.09, 0.12, 0.145, 0.12, 0.145, 0.125, 0.15, 0.14, 0.125, 0.11, 0.145, 0.11, 0.105, 0.125, 0.1, 0.11, 0.14, 0.12, 0.13, 0.15, 0.135, 0.105, 0.135, 0.13, 0.11, 0.15, 0.095, 0.13, 0.115, 0.13, 0.15, 0.125, 0.125, 0.135, 0.115, 0.145, 0.15, 0.14, 0.15, 0.135, 0.15, 0.145, 0.125, 0.13, 0.12, 0.15, 0.15, 0.125, 0.13, 0.105, 0.105, 0.12, 0.135]\n",
      "lower_whisker value : 0.15499999999999997 upper_whisker value 0.675\n",
      "*****\n",
      "***** Height\n",
      "outliers are [0.01, 0.03, 0.03, 0.035, 0.03, 0.02, 0.035, 0.025, 0.025, 0.015, 0.0, 0.515, 0.25, 0.035, 0.25, 0.025, 1.13, 0.035, 0.015, 0.03, 0.03, 0.25, 0.025, 0.03, 0.025, 0.035, 0.035, 0.02, 0.0]\n",
      "lower_whisker value : 0.039999999999999994 upper_whisker value 0.24000000000000002\n",
      "*****\n",
      "***** Whole weight\n",
      "outliers are [2.55, 2.499, 2.8255, 2.555, 2.302, 2.273, 2.2359999999999998, 2.505, 2.657, 2.25, 2.5085, 2.255, 2.2205, 2.5155, 2.7795, 2.226, 2.526, 2.381, 2.398, 2.3305, 2.2355, 2.3235, 2.2305, 2.2635, 2.2695, 2.4925, 2.333, 2.548, 2.381, 2.2385]\n",
      "lower_whisker value : -0.62575 upper_whisker value 2.22025\n",
      "*****\n",
      "***** Shucked weight\n",
      "outliers are [1.0705, 1.1465, 1.012, 1.1335, 1.0070000000000001, 1.095, 1.0465, 1.0265, 1.026, 1.109, 1.1965, 1.4880000000000002, 1.1075, 1.0465, 1.1565, 1.232, 1.0170000000000001, 1.351, 0.9895, 0.9925, 1.1455, 1.03, 1.083, 1.1155, 1.3485, 1.0715, 1.0815, 1.0685, 0.9915, 1.128, 1.0515, 1.005, 1.0615, 1.1055, 1.253, 1.1705, 1.1495, 0.9815, 0.9955, 1.2395, 1.0135, 1.1455, 1.2395, 1.2455, 1.1945, 1.133, 1.0745, 0.9840000000000001]\n",
      "lower_whisker value : -0.2879999999999999 upper_whisker value 0.976\n",
      "*****\n",
      "***** Viscera weight\n",
      "outliers are [0.541, 0.5225, 0.509, 0.55, 0.5195, 0.513, 0.4985, 0.564, 0.519, 0.4925, 0.5195, 0.5185, 0.6415, 0.76, 0.59, 0.5005, 0.512, 0.5265, 0.5235, 0.525, 0.541, 0.5115, 0.575, 0.5145, 0.5745, 0.526]\n",
      "lower_whisker value : -0.14575000000000002 upper_whisker value 0.49225\n",
      "*****\n",
      "***** Shell weight\n",
      "outliers are [0.675, 0.78, 0.635, 1.005, 0.815, 0.725, 0.85, 0.65, 0.76, 0.69, 0.71, 0.7, 0.897, 0.638, 0.6785, 0.7975, 0.63, 0.642, 0.643, 0.6459999999999999, 0.6585, 0.885, 0.725, 0.885, 0.665, 0.685, 0.66, 0.726, 0.6855, 0.71, 0.725, 0.665, 0.6745, 0.655, 0.657]\n",
      "lower_whisker value : -0.16849999999999993 upper_whisker value 0.6275\n",
      "*****\n",
      "***** Rings\n",
      "outliers are [20, 16, 19, 18, 19, 16, 20, 16, 21, 19, 18, 17, 16, 16, 18, 16, 20, 20, 21, 16, 22, 1, 3, 3, 17, 19, 22, 16, 22, 18, 20, 17, 17, 19, 26, 3, 21, 19, 23, 23, 18, 16, 16, 22, 16, 20, 18, 17, 16, 18, 20, 16, 19, 17, 16, 16, 19, 20, 16, 20, 20, 16, 18, 19, 21, 18, 18, 20, 18, 22, 19, 16, 18, 16, 16, 17, 17, 21, 17, 17, 21, 16, 29, 17, 19, 17, 19, 23, 17, 16, 3, 3, 20, 17, 16, 20, 17, 17, 19, 18, 19, 16, 17, 18, 18, 17, 21, 19, 17, 16, 18, 18, 19, 17, 19, 21, 23, 22, 23, 16, 16, 16, 2, 3, 17, 18, 17, 20, 17, 17, 20, 20, 16, 17, 17, 21, 17, 17, 3, 3, 3, 16, 17, 19, 27, 3, 16, 18, 16, 17, 19, 17, 20, 21, 16, 21, 25, 19, 18, 16, 27, 18, 17, 17, 17, 17, 17, 17, 18, 20, 19, 23, 16, 16, 17, 17, 23, 23, 18, 17, 17, 21, 17, 16, 19, 18, 17, 17, 20, 18, 18, 19, 16, 3, 16, 16, 17, 17, 16, 18, 18, 18, 16, 16, 23, 16, 20, 17, 16, 20, 18, 19, 3, 20, 24, 21, 18, 16, 20, 18, 17, 17, 16, 16, 18, 16, 18, 19, 18, 17, 17, 18, 18, 24, 17, 16, 16, 16, 16, 17, 16, 19, 16, 16, 16, 17, 20, 19, 17, 17, 16, 19, 19, 18, 16, 19, 18, 18, 3, 3, 3, 16, 16, 18, 19, 16, 16, 17, 16, 16, 19, 18, 20, 16, 21, 17, 20, 16]\n",
      "lower_whisker value : 3.5 upper_whisker value 15.5\n",
      "*****\n"
     ]
    }
   ],
   "source": [
    "#Quantifying Outliers\n",
    "for i in cols:\n",
    "    print('*****',i)\n",
    "    outlier_iqr(df[i])\n",
    "    print('*****')"
   ]
  },
  {
   "cell_type": "markdown",
   "metadata": {},
   "source": [
    "# Imputing the Outliers\n",
    "There are some outliers in the data columns\n",
    "The outliers are only slight amount\n"
   ]
  },
  {
   "cell_type": "code",
   "execution_count": 94,
   "metadata": {},
   "outputs": [],
   "source": [
    "df['Length']=df['Length'].mask(df['Length']<0.2,df['Length'].mean()) \n",
    "df['Diameter']=df['Diameter'].mask(df['Diameter']<0.154,df['Diameter'].mean()) \n",
    "df['Height']=df['Height'].mask(df['Height']>0.24,df['Height'].mean())\n",
    "df['Shucked weight']=df['Shucked weight'].mask(df['Shucked weight']>0.976,df['Shucked weight'].mean())\n",
    "df['Rings']=df['Rings'].mask(df['Rings']>15.5,df['Rings'].mean())\n"
   ]
  },
  {
   "cell_type": "code",
   "execution_count": 95,
   "metadata": {},
   "outputs": [
    {
     "data": {
      "text/html": [
       "<div>\n",
       "<style scoped>\n",
       "    .dataframe tbody tr th:only-of-type {\n",
       "        vertical-align: middle;\n",
       "    }\n",
       "\n",
       "    .dataframe tbody tr th {\n",
       "        vertical-align: top;\n",
       "    }\n",
       "\n",
       "    .dataframe thead th {\n",
       "        text-align: right;\n",
       "    }\n",
       "</style>\n",
       "<table border=\"1\" class=\"dataframe\">\n",
       "  <thead>\n",
       "    <tr style=\"text-align: right;\">\n",
       "      <th></th>\n",
       "      <th>Length</th>\n",
       "      <th>Diameter</th>\n",
       "      <th>Height</th>\n",
       "      <th>Whole weight</th>\n",
       "      <th>Shucked weight</th>\n",
       "      <th>Viscera weight</th>\n",
       "      <th>Shell weight</th>\n",
       "      <th>Rings</th>\n",
       "      <th>Sex_F</th>\n",
       "      <th>Sex_I</th>\n",
       "      <th>Sex_M</th>\n",
       "    </tr>\n",
       "  </thead>\n",
       "  <tbody>\n",
       "    <tr>\n",
       "      <th>Length</th>\n",
       "      <td>1.000000</td>\n",
       "      <td>0.971075</td>\n",
       "      <td>0.860809</td>\n",
       "      <td>0.919176</td>\n",
       "      <td>0.885828</td>\n",
       "      <td>0.897258</td>\n",
       "      <td>0.889710</td>\n",
       "      <td>0.580909</td>\n",
       "      <td>0.303387</td>\n",
       "      <td>-0.543232</td>\n",
       "      <td>0.234606</td>\n",
       "    </tr>\n",
       "    <tr>\n",
       "      <th>Diameter</th>\n",
       "      <td>0.971075</td>\n",
       "      <td>1.000000</td>\n",
       "      <td>0.854886</td>\n",
       "      <td>0.914694</td>\n",
       "      <td>0.876364</td>\n",
       "      <td>0.889264</td>\n",
       "      <td>0.892428</td>\n",
       "      <td>0.580296</td>\n",
       "      <td>0.310049</td>\n",
       "      <td>-0.551899</td>\n",
       "      <td>0.236595</td>\n",
       "    </tr>\n",
       "    <tr>\n",
       "      <th>Height</th>\n",
       "      <td>0.860809</td>\n",
       "      <td>0.854886</td>\n",
       "      <td>1.000000</td>\n",
       "      <td>0.884116</td>\n",
       "      <td>0.827602</td>\n",
       "      <td>0.861888</td>\n",
       "      <td>0.885702</td>\n",
       "      <td>0.635018</td>\n",
       "      <td>0.316193</td>\n",
       "      <td>-0.558057</td>\n",
       "      <td>0.236650</td>\n",
       "    </tr>\n",
       "    <tr>\n",
       "      <th>Whole weight</th>\n",
       "      <td>0.919176</td>\n",
       "      <td>0.914694</td>\n",
       "      <td>0.884116</td>\n",
       "      <td>1.000000</td>\n",
       "      <td>0.919878</td>\n",
       "      <td>0.966375</td>\n",
       "      <td>0.955355</td>\n",
       "      <td>0.566927</td>\n",
       "      <td>0.299741</td>\n",
       "      <td>-0.557592</td>\n",
       "      <td>0.252038</td>\n",
       "    </tr>\n",
       "    <tr>\n",
       "      <th>Shucked weight</th>\n",
       "      <td>0.885828</td>\n",
       "      <td>0.876364</td>\n",
       "      <td>0.827602</td>\n",
       "      <td>0.919878</td>\n",
       "      <td>1.000000</td>\n",
       "      <td>0.890280</td>\n",
       "      <td>0.855165</td>\n",
       "      <td>0.493109</td>\n",
       "      <td>0.285908</td>\n",
       "      <td>-0.532647</td>\n",
       "      <td>0.241170</td>\n",
       "    </tr>\n",
       "    <tr>\n",
       "      <th>Viscera weight</th>\n",
       "      <td>0.897258</td>\n",
       "      <td>0.889264</td>\n",
       "      <td>0.861888</td>\n",
       "      <td>0.966375</td>\n",
       "      <td>0.890280</td>\n",
       "      <td>1.000000</td>\n",
       "      <td>0.907656</td>\n",
       "      <td>0.556720</td>\n",
       "      <td>0.308444</td>\n",
       "      <td>-0.556081</td>\n",
       "      <td>0.242194</td>\n",
       "    </tr>\n",
       "    <tr>\n",
       "      <th>Shell weight</th>\n",
       "      <td>0.889710</td>\n",
       "      <td>0.892428</td>\n",
       "      <td>0.885702</td>\n",
       "      <td>0.955355</td>\n",
       "      <td>0.855165</td>\n",
       "      <td>0.907656</td>\n",
       "      <td>1.000000</td>\n",
       "      <td>0.604659</td>\n",
       "      <td>0.306319</td>\n",
       "      <td>-0.546953</td>\n",
       "      <td>0.235391</td>\n",
       "    </tr>\n",
       "    <tr>\n",
       "      <th>Rings</th>\n",
       "      <td>0.580909</td>\n",
       "      <td>0.580296</td>\n",
       "      <td>0.635018</td>\n",
       "      <td>0.566927</td>\n",
       "      <td>0.493109</td>\n",
       "      <td>0.556720</td>\n",
       "      <td>0.604659</td>\n",
       "      <td>1.000000</td>\n",
       "      <td>0.265663</td>\n",
       "      <td>-0.487060</td>\n",
       "      <td>0.216462</td>\n",
       "    </tr>\n",
       "    <tr>\n",
       "      <th>Sex_F</th>\n",
       "      <td>0.303387</td>\n",
       "      <td>0.310049</td>\n",
       "      <td>0.316193</td>\n",
       "      <td>0.299741</td>\n",
       "      <td>0.285908</td>\n",
       "      <td>0.308444</td>\n",
       "      <td>0.306319</td>\n",
       "      <td>0.265663</td>\n",
       "      <td>1.000000</td>\n",
       "      <td>-0.464298</td>\n",
       "      <td>-0.512528</td>\n",
       "    </tr>\n",
       "    <tr>\n",
       "      <th>Sex_I</th>\n",
       "      <td>-0.543232</td>\n",
       "      <td>-0.551899</td>\n",
       "      <td>-0.558057</td>\n",
       "      <td>-0.557592</td>\n",
       "      <td>-0.532647</td>\n",
       "      <td>-0.556081</td>\n",
       "      <td>-0.546953</td>\n",
       "      <td>-0.487060</td>\n",
       "      <td>-0.464298</td>\n",
       "      <td>1.000000</td>\n",
       "      <td>-0.522541</td>\n",
       "    </tr>\n",
       "    <tr>\n",
       "      <th>Sex_M</th>\n",
       "      <td>0.234606</td>\n",
       "      <td>0.236595</td>\n",
       "      <td>0.236650</td>\n",
       "      <td>0.252038</td>\n",
       "      <td>0.241170</td>\n",
       "      <td>0.242194</td>\n",
       "      <td>0.235391</td>\n",
       "      <td>0.216462</td>\n",
       "      <td>-0.512528</td>\n",
       "      <td>-0.522541</td>\n",
       "      <td>1.000000</td>\n",
       "    </tr>\n",
       "  </tbody>\n",
       "</table>\n",
       "</div>"
      ],
      "text/plain": [
       "                  Length  Diameter    Height  Whole weight  Shucked weight  \\\n",
       "Length          1.000000  0.971075  0.860809      0.919176        0.885828   \n",
       "Diameter        0.971075  1.000000  0.854886      0.914694        0.876364   \n",
       "Height          0.860809  0.854886  1.000000      0.884116        0.827602   \n",
       "Whole weight    0.919176  0.914694  0.884116      1.000000        0.919878   \n",
       "Shucked weight  0.885828  0.876364  0.827602      0.919878        1.000000   \n",
       "Viscera weight  0.897258  0.889264  0.861888      0.966375        0.890280   \n",
       "Shell weight    0.889710  0.892428  0.885702      0.955355        0.855165   \n",
       "Rings           0.580909  0.580296  0.635018      0.566927        0.493109   \n",
       "Sex_F           0.303387  0.310049  0.316193      0.299741        0.285908   \n",
       "Sex_I          -0.543232 -0.551899 -0.558057     -0.557592       -0.532647   \n",
       "Sex_M           0.234606  0.236595  0.236650      0.252038        0.241170   \n",
       "\n",
       "                Viscera weight  Shell weight     Rings     Sex_F     Sex_I  \\\n",
       "Length                0.897258      0.889710  0.580909  0.303387 -0.543232   \n",
       "Diameter              0.889264      0.892428  0.580296  0.310049 -0.551899   \n",
       "Height                0.861888      0.885702  0.635018  0.316193 -0.558057   \n",
       "Whole weight          0.966375      0.955355  0.566927  0.299741 -0.557592   \n",
       "Shucked weight        0.890280      0.855165  0.493109  0.285908 -0.532647   \n",
       "Viscera weight        1.000000      0.907656  0.556720  0.308444 -0.556081   \n",
       "Shell weight          0.907656      1.000000  0.604659  0.306319 -0.546953   \n",
       "Rings                 0.556720      0.604659  1.000000  0.265663 -0.487060   \n",
       "Sex_F                 0.308444      0.306319  0.265663  1.000000 -0.464298   \n",
       "Sex_I                -0.556081     -0.546953 -0.487060 -0.464298  1.000000   \n",
       "Sex_M                 0.242194      0.235391  0.216462 -0.512528 -0.522541   \n",
       "\n",
       "                   Sex_M  \n",
       "Length          0.234606  \n",
       "Diameter        0.236595  \n",
       "Height          0.236650  \n",
       "Whole weight    0.252038  \n",
       "Shucked weight  0.241170  \n",
       "Viscera weight  0.242194  \n",
       "Shell weight    0.235391  \n",
       "Rings           0.216462  \n",
       "Sex_F          -0.512528  \n",
       "Sex_I          -0.522541  \n",
       "Sex_M           1.000000  "
      ]
     },
     "execution_count": 95,
     "metadata": {},
     "output_type": "execute_result"
    }
   ],
   "source": [
    "#Feature Engineering \n",
    "corr = df.corr()\n",
    "corr"
   ]
  },
  {
   "cell_type": "code",
   "execution_count": 96,
   "metadata": {},
   "outputs": [
    {
     "data": {
      "text/plain": [
       "<AxesSubplot:>"
      ]
     },
     "execution_count": 96,
     "metadata": {},
     "output_type": "execute_result"
    },
    {
     "data": {
      "image/png": "[encoded data removed]",
      "text/plain": [
       "<Figure size 432x288 with 2 Axes>"
      ]
     },
     "metadata": {},
     "output_type": "display_data"
    }
   ],
   "source": [
    "sns.heatmap(corr, annot=True, cmap='viridis')"
   ]
  },
  {
   "cell_type": "code",
   "execution_count": 97,
   "metadata": {},
   "outputs": [],
   "source": [
    "#All the features are showing signficant corelation with the Target Rings, so considering the all columns for further model building"
   ]
  },
  {
   "cell_type": "code",
   "execution_count": 98,
   "metadata": {},
   "outputs": [],
   "source": [
    "#Data conversion in to Numpy\n",
    "\n",
    "x = df.drop('Rings', axis=1)\n",
    "x_data=np.array(x)\n",
    "y = df['Rings']\n",
    "y_data=np.array(y)"
   ]
  },
  {
   "cell_type": "code",
   "execution_count": 99,
   "metadata": {},
   "outputs": [
    {
     "data": {
      "text/plain": [
       "array([[0.455, 0.365, 0.095, ..., 0.   , 0.   , 1.   ],\n",
       "       [0.35 , 0.265, 0.09 , ..., 0.   , 0.   , 1.   ],\n",
       "       [0.53 , 0.42 , 0.135, ..., 1.   , 0.   , 0.   ],\n",
       "       ...,\n",
       "       [0.6  , 0.475, 0.205, ..., 0.   , 0.   , 1.   ],\n",
       "       [0.625, 0.485, 0.15 , ..., 1.   , 0.   , 0.   ],\n",
       "       [0.71 , 0.555, 0.195, ..., 0.   , 0.   , 1.   ]])"
      ]
     },
     "execution_count": 99,
     "metadata": {},
     "output_type": "execute_result"
    }
   ],
   "source": [
    "x_data"
   ]
  },
  {
   "cell_type": "code",
   "execution_count": 100,
   "metadata": {},
   "outputs": [
    {
     "data": {
      "text/plain": [
       "array([15.,  7.,  9., ...,  9., 10., 12.])"
      ]
     },
     "execution_count": 100,
     "metadata": {},
     "output_type": "execute_result"
    }
   ],
   "source": [
    "y_data"
   ]
  },
  {
   "cell_type": "code",
   "execution_count": 101,
   "metadata": {},
   "outputs": [
    {
     "data": {
      "text/plain": [
       "array([[0.32 , 0.24 , 0.085, ..., 0.   , 1.   , 0.   ],\n",
       "       [0.545, 0.43 , 0.14 , ..., 1.   , 0.   , 0.   ],\n",
       "       [0.515, 0.405, 0.13 , ..., 0.   , 1.   , 0.   ],\n",
       "       ...,\n",
       "       [0.62 , 0.475, 0.15 , ..., 1.   , 0.   , 0.   ],\n",
       "       [0.645, 0.495, 0.185, ..., 0.   , 0.   , 1.   ],\n",
       "       [0.58 , 0.455, 0.155, ..., 1.   , 0.   , 0.   ]])"
      ]
     },
     "execution_count": 101,
     "metadata": {},
     "output_type": "execute_result"
    }
   ],
   "source": [
    "#Data Splitting\n",
    "x_train,x_test, y_train, y_test=train_test_split(x_data,y_data, test_size=0.20, random_state=25)\n",
    "x_train"
   ]
  },
  {
   "cell_type": "code",
   "execution_count": 102,
   "metadata": {},
   "outputs": [],
   "source": [
    "#Model Development"
   ]
  },
  {
   "cell_type": "code",
   "execution_count": 103,
   "metadata": {},
   "outputs": [],
   "source": [
    "from sklearn.linear_model import LinearRegression\n"
   ]
  },
  {
   "cell_type": "code",
   "execution_count": 104,
   "metadata": {},
   "outputs": [
    {
     "data": {
      "text/plain": [
       "LinearRegression(copy_X=True, fit_intercept=True, n_jobs=1, normalize=False)"
      ]
     },
     "execution_count": 104,
     "metadata": {},
     "output_type": "execute_result"
    }
   ],
   "source": [
    "#create a model object\n",
    "model=LinearRegression()\n",
    "model"
   ]
  },
  {
   "cell_type": "code",
   "execution_count": 105,
   "metadata": {},
   "outputs": [
    {
     "data": {
      "text/plain": [
       "LinearRegression(copy_X=True, fit_intercept=True, n_jobs=1, normalize=False)"
      ]
     },
     "execution_count": 105,
     "metadata": {},
     "output_type": "execute_result"
    }
   ],
   "source": [
    "#Training\n",
    "model.fit(x_train, y_train)\n"
   ]
  },
  {
   "cell_type": "code",
   "execution_count": 106,
   "metadata": {},
   "outputs": [
    {
     "name": "stdout",
     "output_type": "stream",
     "text": [
      "intercept value for model 3.626376155772629\n",
      "slope value for model [ 4.01392657  0.45738631 29.50958955 -1.59396638 -2.88591326  1.64038497\n",
      "  5.94718808  0.32806576 -0.63365138  0.30558563]\n"
     ]
    }
   ],
   "source": [
    "print ('intercept value for model', model.intercept_)\n",
    "print ('slope value for model', model.coef_)\n"
   ]
  },
  {
   "cell_type": "code",
   "execution_count": 107,
   "metadata": {},
   "outputs": [
    {
     "data": {
      "text/plain": [
       "array([ 7.96883269,  9.97406883,  9.20251658,  9.86032958,  9.07115023,\n",
       "        8.43958247,  9.79801452, 11.61579394,  9.24792557, 10.0573443 ,\n",
       "        7.73103432, 10.64256407,  9.60965297,  7.92146112,  9.1873966 ,\n",
       "       10.64654847, 10.94759039,  9.87217958,  9.88813346, 10.26494884,\n",
       "       11.58933622, 10.24729774, 11.29456925,  7.77990674,  7.75023714,\n",
       "       10.93144791, 12.43741285,  8.63552424, 10.01133665, 10.68918889,\n",
       "        9.00977459,  6.26126416, 11.74017105,  8.99707927,  9.62889857,\n",
       "        8.30214902, 10.09558197, 10.72205001, 13.01165211, 10.09180734,\n",
       "       10.65738939, 10.71769451,  9.04143137, 10.32735378, 10.42773048,\n",
       "        8.31220771,  8.86718575, 10.76879976, 11.37209162,  6.7490103 ,\n",
       "        9.85220596,  9.75060322,  9.56549694, 10.32726553, 12.59282755,\n",
       "       10.25453379,  7.89451385,  7.04108629,  9.8758359 , 10.01824273,\n",
       "       10.34391317,  9.4664728 , 11.49824897, 10.45685147,  8.67969062,\n",
       "        8.27639423,  6.35821508,  7.94661412,  7.27868308, 11.1311943 ,\n",
       "        8.85572697,  9.61939508, 10.04854931, 10.9339028 , 10.28656544,\n",
       "        9.18012146, 10.18977898,  9.14851432, 10.46522326, 10.49257956,\n",
       "       11.41770134, 10.27986868, 11.295065  , 10.44515515,  9.51938493,\n",
       "        9.58909629, 11.29003648,  8.63908998, 12.08991093,  9.28908803,\n",
       "       13.28758188, 10.39228978, 12.2369216 ,  6.79355409,  9.70991878,\n",
       "       10.36071452,  6.91459637,  9.28984044,  7.49899204, 10.29233069,\n",
       "        9.18154908,  8.81822789,  8.90393733, 11.21544907, 11.81464256,\n",
       "        9.79986629, 10.10516464, 10.70540253, 12.8447907 ,  9.75607447,\n",
       "        9.96349958,  7.93055688,  7.70395684,  9.46108145,  7.13710747,\n",
       "        8.85554248,  9.85366233,  8.34974556,  9.70750368, 11.53319949,\n",
       "       11.2836666 ,  9.49036589, 10.39461984,  9.24420763,  8.5312976 ,\n",
       "       13.38951988, 11.41175639,  5.88201839, 11.16550095,  7.04923778,\n",
       "       10.62830412,  8.16194804,  9.28696503,  9.18381123,  5.41975322,\n",
       "        8.32885518,  8.75165984,  9.30425215, 10.03051247, 10.08690428,\n",
       "        6.39572439, 10.38024263,  8.48112569,  9.4902547 ,  9.67900286,\n",
       "       11.06326713, 11.28930342,  9.57738365,  7.095696  ,  9.24209446,\n",
       "        8.09437927, 11.24527364,  9.23243322,  8.93368899, 10.54539444,\n",
       "        7.62305361, 10.55624853,  9.64800962,  8.86220097,  7.71964988,\n",
       "       10.58389628,  6.67348536,  9.31933323,  7.67869336,  7.24107704,\n",
       "       11.97350399,  6.94674019,  6.62551672,  7.55713744,  9.00572445,\n",
       "       10.07951144,  9.07928661,  9.47744949,  8.5999992 , 10.28667155,\n",
       "        9.78121893,  7.50736136, 10.91539765,  6.27862166, 10.73058458,\n",
       "        8.97582596,  9.17623136,  7.3814532 ,  8.62855709,  9.15855908,\n",
       "        6.5698725 ,  9.2556627 ,  9.05397994,  8.88435796, 12.43132745,\n",
       "        8.99398283, 10.74413821,  7.52686026, 10.81127585, 11.12542378,\n",
       "       12.91479611, 10.78315504, 10.39363831, 11.29865382, 10.00624074,\n",
       "       10.3493419 , 11.88661965,  7.32334474,  6.90535253,  5.6335144 ,\n",
       "       10.22945903,  8.83110776,  9.83725838,  9.3642805 , 12.13399121,\n",
       "        8.78627977, 11.03577191,  8.57553049, 10.96598523,  9.89393933,\n",
       "       10.47338842,  9.96432615,  9.36795629,  8.80933831,  7.99912203,\n",
       "        8.13328839, 10.60449402,  7.06629369,  9.25587319, 10.77170127,\n",
       "       11.22454022,  9.63358298, 10.35582712,  8.65224476,  9.80240617,\n",
       "        9.69549067, 10.38806294, 13.25354733,  7.78403486,  9.64709967,\n",
       "        6.50293505, 10.37688896, 11.68483583,  7.45293666, 11.59843782,\n",
       "       10.6831713 , 10.1888178 ,  8.78655266,  9.85479262,  9.12902313,\n",
       "       10.61167999, 12.86958736, 10.22791043,  9.177017  ,  6.31944056,\n",
       "       11.14064619, 10.49585622, 11.25086728,  9.658507  , 10.80300649,\n",
       "        8.25545255,  9.01612182,  7.41502777,  6.04752572,  9.21331355,\n",
       "       10.44953637, 11.04723721,  5.99644419,  9.71484486, 11.63023505,\n",
       "        9.60874881, 10.46412235, 10.62329622, 11.60455846,  9.83253896,\n",
       "       10.20636035, 10.08012373,  8.5729318 ,  7.38242697,  9.96639341,\n",
       "        9.76340642,  9.29650856, 11.2077785 , 10.0950468 ,  8.43308497,\n",
       "        9.20629098, 10.91427832, 10.62323122,  9.17201135,  7.99047079,\n",
       "       11.79197221,  7.59952248,  7.3392685 ,  9.26041041, 10.06763633,\n",
       "       11.41215782, 12.03145425,  7.47131163, 10.3995074 , 13.37043955,\n",
       "       10.41885797, 10.06919172,  6.9801728 , 10.49110939,  7.4055783 ,\n",
       "       10.1510985 ,  9.37900625,  8.28942009,  8.70220464,  9.61423631,\n",
       "       11.85872053, 10.70848392,  9.91975449, 10.12717419,  6.47635834,\n",
       "       12.47862073,  9.35522573, 10.69601272,  8.18885017, 11.20126817,\n",
       "       11.10859363,  7.43865127,  9.34093565,  9.52666594,  6.60155942,\n",
       "       10.2499432 ,  6.9122162 ,  6.99275752, 10.46969103, 10.88096814,\n",
       "       11.74234625, 10.13458931, 10.94072219,  5.85753478,  8.41423091,\n",
       "       10.51546823,  7.13494366,  6.86692925,  9.38154255,  6.21615588,\n",
       "        8.64105689,  8.22942571,  8.89534258,  9.65815446,  8.1545978 ,\n",
       "        9.87260177,  8.54140664, 11.07029272, 11.03418576, 10.93190533,\n",
       "       10.08438523, 10.14936776,  8.53258156,  6.09758543,  6.78719059,\n",
       "        7.74301482,  6.16324547,  7.85923009, 10.84080397,  7.77878215,\n",
       "        7.45553131,  8.2587968 ,  6.86644689,  9.06832016, 10.73983592,\n",
       "        9.37065969,  9.5279498 ,  9.93977114, 10.71622692,  9.13951736,\n",
       "       12.14285775, 10.1882226 ,  7.24018657, 12.97670404,  9.09353065,\n",
       "        7.59372605,  8.47165246,  8.00214559, 10.94523419, 10.22518605,\n",
       "        9.89964732, 10.41624874,  8.99967983, 11.05335558, 10.11093393,\n",
       "        9.48807704,  7.09824923,  7.07391047,  9.34929043, 11.18288609,\n",
       "       10.86779979,  9.5160925 , 11.83439072, 10.67750761, 10.49267072,\n",
       "        8.46034092,  8.21048431,  9.66772792,  7.62045488,  9.43742194,\n",
       "        7.98277163,  8.98093566,  6.27023892,  9.61052808,  8.17789396,\n",
       "       10.19439843,  9.51546394,  9.78925292, 11.0777699 , 10.37226631,\n",
       "       10.18881139,  6.73125196,  7.69561007, 10.61999903,  8.76230363,\n",
       "        8.45237885, 10.06280367,  8.01708872, 10.78963415,  9.37588329,\n",
       "       10.59890378,  8.19942177,  9.22699994, 10.4141251 , 10.68971806,\n",
       "        8.60439185,  8.5914696 ,  9.43707059, 10.42051344,  7.06978678,\n",
       "       11.26618596,  9.7454019 , 11.2673908 ,  8.54670489, 10.22285868,\n",
       "        9.39432099,  8.64723095, 10.48943846,  8.6464591 ,  5.5806011 ,\n",
       "       10.45852787,  9.34917196,  9.89411009,  7.09854903, 10.13784336,\n",
       "        9.42564815,  9.35088916,  9.63458659,  9.10293087, 11.28361799,\n",
       "        9.84168616,  8.49651306,  8.89139993, 10.36464623, 10.49367277,\n",
       "       10.54448558,  9.3737282 ,  8.36714897, 11.52466401,  8.29333216,\n",
       "        8.73886528, 11.61788007,  9.22560075, 10.22294668,  7.40081414,\n",
       "       10.3622914 ,  8.30603528,  9.35959109,  6.93989473, 10.4516682 ,\n",
       "        9.04749175,  9.29179497,  7.62667584,  7.83104607,  8.59180053,\n",
       "       11.21238011, 10.21361078, 11.66385723, 12.6787885 , 11.90945451,\n",
       "        7.28907473,  9.82366141, 11.10456024,  8.89234169, 10.27214253,\n",
       "        6.91746149,  8.43184527, 12.65810246, 10.75797306,  9.85820513,\n",
       "        8.41230216,  9.63244417, 11.53165662,  7.25345276, 10.82061802,\n",
       "        6.39011806, 11.25067118, 10.43057811,  9.02461899,  6.30261771,\n",
       "        9.23953298,  8.71280629, 12.61566503,  8.07061391, 12.50776612,\n",
       "       11.47699329, 10.31449303,  9.45352188,  7.65972357, 11.73517988,\n",
       "        8.56612325,  9.71285543,  8.55822616,  6.08843469, 10.05582692,\n",
       "        8.90174308,  7.68596217,  7.38324904,  9.54313349, 10.91172604,\n",
       "       10.92644723,  9.8539936 ,  9.31337116,  8.38326869, 11.22443485,\n",
       "        9.54982182, 11.53177383, 10.385872  ,  9.86376122,  9.31750125,\n",
       "        6.42274392,  7.24516619, 10.47348319,  9.57814385,  6.70831839,\n",
       "        8.9493158 ,  6.16016157,  9.16595851, 11.07600378, 10.06811938,\n",
       "       10.34365935, 12.02163617,  9.42353265, 11.04440092, 10.10400901,\n",
       "       10.0154464 , 12.10982166, 10.9454788 ,  8.40640799, 11.87066115,\n",
       "       12.12250113, 10.07074013, 10.36778173,  9.3901659 , 12.92240816,\n",
       "       10.17794504, 10.28492551, 11.56325932,  9.82440255,  9.12829188,\n",
       "       10.97835629, 10.17250507,  9.58118415, 10.15104485,  9.5426898 ,\n",
       "       11.00978183,  7.08410577,  9.31153609, 10.06250171, 10.87007141,\n",
       "        8.41346059,  9.20069694, 11.20125357, 10.35813335,  8.82714548,\n",
       "        9.7380734 , 10.65594876, 11.54061184,  5.54281505, 11.98145907,\n",
       "       11.64100062, 12.18637161,  8.59363653,  6.98242197, 10.82152604,\n",
       "        9.61832694, 10.7209706 ,  7.42290476, 10.72294639, 10.8473066 ,\n",
       "        9.2177194 ,  7.87080447, 10.30695632,  5.76379725,  9.24007204,\n",
       "       10.01135553,  9.5592939 , 12.30870867, 11.15974272, 10.12112332,\n",
       "       10.53143512,  9.62188262, 11.96003635,  9.71667897,  9.08844849,\n",
       "        6.73170944, 11.96914358,  9.95752798,  9.64012838, 10.94749236,\n",
       "        9.787589  , 10.12225019,  9.75019015,  9.98389793, 10.0568904 ,\n",
       "       10.44456108,  5.32299026,  7.31765663, 10.69653428,  8.00988066,\n",
       "       11.35906515, 10.4918813 ,  9.72295602, 11.33344674, 10.38364118,\n",
       "       10.49889936, 10.63561001,  5.92699264,  9.36361798,  9.41505886,\n",
       "        8.6732252 , 10.81209994,  9.46728573, 10.81240029, 12.99722489,\n",
       "       11.50346859,  9.76178647,  9.66490097, 10.02197246, 10.47239086,\n",
       "       11.29907201,  8.33671368,  8.05795096,  9.56079028,  9.34798434,\n",
       "        7.32868605, 10.61086639,  9.07739113,  8.27425268, 11.84625223,\n",
       "        6.50718122,  9.78951222, 10.64832178,  7.72684876, 10.78013456,\n",
       "        8.24571463, 10.21106313,  7.08404255,  6.87153377, 10.52995895,\n",
       "       11.08745749, 10.4284349 , 10.37086589,  8.25758973,  9.6544687 ,\n",
       "       10.83670927,  7.94745082, 11.88597121, 10.91174513, 10.98397968,\n",
       "        8.79811452,  9.0421436 , 11.62400211,  9.85376396,  9.79369105,\n",
       "       10.13645657, 11.3363174 ,  7.15883454,  8.98596873,  8.67532585,\n",
       "        8.58911311,  9.22708755,  9.57964065, 10.38005096,  5.79831175,\n",
       "        9.35062838,  7.26907783,  9.49651964,  8.09996001,  9.90858468,\n",
       "        9.99338311,  9.90330158,  6.13804257, 10.24639243,  9.25706336,\n",
       "       10.09313898, 10.51815507, 11.46494915,  5.63094856, 10.03013936,\n",
       "        9.48915385, 10.5023666 ,  8.47664289,  8.43376324,  9.02604877,\n",
       "       11.11300891,  7.97038776,  7.24575936,  6.45443982,  8.64305781,\n",
       "       10.31184192, 11.73141929,  6.60539184, 10.69280349,  8.71576037,\n",
       "       10.48389718, 10.41806892, 10.42088232,  9.77160654, 10.11308107,\n",
       "        8.11099976,  9.78854247,  9.03155925,  8.87908534, 10.68572749,\n",
       "       11.09344722,  9.67489774,  9.99466606,  9.42236941,  9.31062525,\n",
       "        5.95905208,  8.11062965, 10.35959806,  9.90540144,  9.82286316,\n",
       "        7.46196101, 10.73470371,  9.69159795,  9.99507515,  8.71969955,\n",
       "        9.75677893, 10.14285076,  9.07591858, 10.33221375,  9.71226668,\n",
       "        9.98468644,  8.20579394,  7.08232884,  9.76754028,  8.97639521,\n",
       "        7.91347853, 10.50126889, 10.17718757,  7.59306856,  6.79967278,\n",
       "       10.59048473, 10.10992194,  9.17482026,  9.02090547, 11.75836321,\n",
       "       10.21521712,  8.6762326 , 10.25373387, 10.49298077, 11.28111909,\n",
       "        9.49954508, 11.69042267,  6.93450414, 10.15129478, 11.53496296,\n",
       "        9.86972579,  9.8558706 ,  8.78669447, 11.81609521, 11.24083572,\n",
       "        9.44217527, 10.21532531,  8.54239382, 10.30121271,  9.61613462,\n",
       "       10.57490838, 10.5492978 , 11.16601996,  9.48825859,  7.46058362,\n",
       "        9.13797312,  6.09555918,  6.47384909,  8.45197704,  8.98777311,\n",
       "       11.23562482,  7.93866702,  9.87640826,  9.93557373, 10.48741724,\n",
       "       11.80056343,  9.18220925,  9.49983183, 12.39629128,  8.98111779,\n",
       "       10.67894129,  6.51608218,  9.16774512, 10.3139307 , 10.66848971,\n",
       "       10.92622764,  7.31272322,  5.80213374,  9.34186903, 11.28536568,\n",
       "        8.59951166,  9.59312269,  9.9364401 ,  7.67582603, 10.82036963,\n",
       "        9.46442151,  9.73790338,  9.0542599 , 11.42100529, 11.49531856,\n",
       "        8.91266451, 12.77709769, 11.76663903,  9.96786988,  7.96547464,\n",
       "        9.9970885 ,  8.3987075 ,  8.33919431, 10.8718891 ,  8.99351808,\n",
       "        6.34449851, 10.89743149,  7.91886873,  9.42868055,  6.17965295,\n",
       "        9.22580336, 10.32158016,  9.31719111, 11.31880057,  9.20125483,\n",
       "        9.4972922 ])"
      ]
     },
     "execution_count": 107,
     "metadata": {},
     "output_type": "execute_result"
    }
   ],
   "source": [
    "y_pred=model.predict(x_test)\n",
    "y_pred"
   ]
  },
  {
   "cell_type": "code",
   "execution_count": 108,
   "metadata": {},
   "outputs": [
    {
     "data": {
      "text/html": [
       "<div>\n",
       "<style scoped>\n",
       "    .dataframe tbody tr th:only-of-type {\n",
       "        vertical-align: middle;\n",
       "    }\n",
       "\n",
       "    .dataframe tbody tr th {\n",
       "        vertical-align: top;\n",
       "    }\n",
       "\n",
       "    .dataframe thead th {\n",
       "        text-align: right;\n",
       "    }\n",
       "</style>\n",
       "<table border=\"1\" class=\"dataframe\">\n",
       "  <thead>\n",
       "    <tr style=\"text-align: right;\">\n",
       "      <th></th>\n",
       "      <th>actual value</th>\n",
       "      <th>predicted value</th>\n",
       "    </tr>\n",
       "  </thead>\n",
       "  <tbody>\n",
       "    <tr>\n",
       "      <th>0</th>\n",
       "      <td>7.0</td>\n",
       "      <td>7.968833</td>\n",
       "    </tr>\n",
       "    <tr>\n",
       "      <th>1</th>\n",
       "      <td>14.0</td>\n",
       "      <td>9.974069</td>\n",
       "    </tr>\n",
       "    <tr>\n",
       "      <th>2</th>\n",
       "      <td>12.0</td>\n",
       "      <td>9.202517</td>\n",
       "    </tr>\n",
       "    <tr>\n",
       "      <th>3</th>\n",
       "      <td>10.0</td>\n",
       "      <td>9.860330</td>\n",
       "    </tr>\n",
       "    <tr>\n",
       "      <th>4</th>\n",
       "      <td>8.0</td>\n",
       "      <td>9.071150</td>\n",
       "    </tr>\n",
       "  </tbody>\n",
       "</table>\n",
       "</div>"
      ],
      "text/plain": [
       "   actual value  predicted value\n",
       "0           7.0         7.968833\n",
       "1          14.0         9.974069\n",
       "2          12.0         9.202517\n",
       "3          10.0         9.860330\n",
       "4           8.0         9.071150"
      ]
     },
     "execution_count": 108,
     "metadata": {},
     "output_type": "execute_result"
    }
   ],
   "source": [
    "df2=pd.DataFrame({'actual value':y_test, 'predicted value': y_pred})\n",
    "df2.head() "
   ]
  },
  {
   "cell_type": "code",
   "execution_count": 109,
   "metadata": {},
   "outputs": [
    {
     "data": {
      "text/plain": [
       "43.543310451553864"
      ]
     },
     "execution_count": 109,
     "metadata": {},
     "output_type": "execute_result"
    }
   ],
   "source": [
    "model.score(x_test, y_test)*100"
   ]
  },
  {
   "cell_type": "code",
   "execution_count": 110,
   "metadata": {},
   "outputs": [],
   "source": [
    "from sklearn.metrics import mean_squared_error #MSE\n",
    "from sklearn.metrics import mean_absolute_error #MAE"
   ]
  },
  {
   "cell_type": "code",
   "execution_count": 112,
   "metadata": {},
   "outputs": [
    {
     "data": {
      "text/plain": [
       "2.7770046510799338"
      ]
     },
     "execution_count": 112,
     "metadata": {},
     "output_type": "execute_result"
    }
   ],
   "source": [
    "mean_squared_error(y_pred, y_test)"
   ]
  },
  {
   "cell_type": "code",
   "execution_count": 113,
   "metadata": {},
   "outputs": [
    {
     "data": {
      "text/plain": [
       "1.666434712516495"
      ]
     },
     "execution_count": 113,
     "metadata": {},
     "output_type": "execute_result"
    }
   ],
   "source": [
    "import math\n",
    "math.sqrt(mean_squared_error(y_pred, y_test))"
   ]
  },
  {
   "cell_type": "code",
   "execution_count": null,
   "metadata": {},
   "outputs": [],
   "source": []
  },
  {
   "cell_type": "code",
   "execution_count": null,
   "metadata": {},
   "outputs": [],
   "source": []
  }
 ],
 "metadata": {
  "kernelspec": {
   "display_name": "Python 3",
   "language": "python",
   "name": "python3"
  },
  "language_info": {
   "codemirror_mode": {
    "name": "ipython",
    "version": 3
   },
   "file_extension": ".py",
   "mimetype": "text/x-python",
   "name": "python",
   "nbconvert_exporter": "python",
   "pygments_lexer": "ipython3",
   "version": "3.6.5"
  }
 },
 "nbformat": 4,
 "nbformat_minor": 2
}
